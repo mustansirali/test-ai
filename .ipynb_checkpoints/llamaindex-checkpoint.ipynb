{
 "cells": [
  {
   "cell_type": "code",
   "execution_count": 1,
   "id": "83a68d1b-708b-4ba0-a55e-801d55869e7c",
   "metadata": {},
   "outputs": [],
   "source": [
    "# NBVAL_SKIP\n",
    "!pip install -U -q llama-index llama-index-vector-stores-redis llama-index-embeddings-cohere llama-index-embeddings-openai"
   ]
  },
  {
   "cell_type": "code",
   "execution_count": 2,
   "id": "35b0dac1-b2db-4f0e-95c8-9d4f49c3fa13",
   "metadata": {},
   "outputs": [
    {
     "name": "stdout",
     "output_type": "stream",
     "text": [
      "docker: Error response from daemon: Conflict. The container name \"/redis-stack-server\" is already in use by container \"4852be50059c17eb00e6f192432c2238d4cee65d72bdd76d8a8fc70894bc0c4d\". You have to remove (or rename) that container to be able to reuse that name.\n",
      "See 'docker run --help'.\n"
     ]
    }
   ],
   "source": [
    "!docker run -d --name redis-stack-server -p 6379:6379 redis/redis-stack-server:latest"
   ]
  },
  {
   "cell_type": "code",
   "execution_count": 3,
   "id": "321bdfd5-43b9-44f4-a213-b3d34338b30e",
   "metadata": {},
   "outputs": [],
   "source": [
    "import os\n",
    "\n",
    "# Replace values below with your own if using Redis Cloud instance\n",
    "REDIS_HOST = os.getenv(\"REDIS_HOST\", \"localhost\") # ex: \"redis-18374.c253.us-central1-1.gce.cloud.redislabs.com\"\n",
    "REDIS_PORT = os.getenv(\"REDIS_PORT\", \"6379\")      # ex: 18374\n",
    "REDIS_PASSWORD = os.getenv(\"REDIS_PASSWORD\", \"\")  # ex: \"1TNxTEdYRDgIDKM2gDfasupCADXXXX\"\n",
    "\n",
    "# If SSL is enabled on the endpoint, use rediss:// as the URL prefix\n",
    "REDIS_URL = f\"redis://:{REDIS_PASSWORD}@{REDIS_HOST}:{REDIS_PORT}\""
   ]
  },
  {
   "cell_type": "code",
   "execution_count": 4,
   "id": "c1a98ddf-fd83-4aef-b0a2-272ced4b804a",
   "metadata": {},
   "outputs": [
    {
     "name": "stdout",
     "output_type": "stream",
     "text": [
      "llamaindex.ipynb \u001b[1m\u001b[36mresources\u001b[m\u001b[m        \u001b[1m\u001b[36mtest\u001b[m\u001b[m\n"
     ]
    }
   ],
   "source": [
    "!ls"
   ]
  },
  {
   "cell_type": "code",
   "execution_count": 5,
   "id": "bf91ed93-10a9-4d7e-aa29-b535b05c3cb7",
   "metadata": {},
   "outputs": [
    {
     "name": "stdout",
     "output_type": "stream",
     "text": [
      "doc count: 1784\n"
     ]
    }
   ],
   "source": [
    "from llama_index.core import VectorStoreIndex, SimpleDirectoryReader\n",
    "from llama_index.vector_stores.redis import RedisVectorStore\n",
    "\n",
    "# Load list of pdfs from a folder\n",
    "data_path = \"resources/\"\n",
    "docs = [os.path.join(data_path, file) for file in os.listdir(data_path)]\n",
    "\n",
    "docs = SimpleDirectoryReader(data_path).load_data()\n",
    "print(f\"doc count: {len(docs)}\")\n",
    "# print(f\"Sample doc {docs[0]}\")"
   ]
  },
  {
   "cell_type": "code",
   "execution_count": 6,
   "id": "5284c244-4ac8-459b-9ad5-1a177a6c0108",
   "metadata": {},
   "outputs": [
    {
     "name": "stdin",
     "output_type": "stream",
     "text": [
      "OPENAI_API_KEY ········\n"
     ]
    }
   ],
   "source": [
    "import getpass\n",
    "\n",
    "if \"OPENAI_API_KEY\" not in os.environ:\n",
    "    os.environ[\"OPENAI_API_KEY\"] = getpass.getpass(\"OPENAI_API_KEY\")"
   ]
  },
  {
   "cell_type": "code",
   "execution_count": 8,
   "id": "939285df-9ad9-4559-8e19-e293f17fe5b7",
   "metadata": {},
   "outputs": [
    {
     "name": "stdout",
     "output_type": "stream",
     "text": [
      "12:27:23 redisvl.index.index INFO   Index already exists, overwriting.\n"
     ]
    }
   ],
   "source": [
    "from llama_index.core import StorageContext\n",
    "\n",
    "vector_store = RedisVectorStore(redis_url=REDIS_URL, overwrite=True)\n",
    "\n",
    "storage_context = StorageContext.from_defaults(vector_store=vector_store)\n",
    "\n",
    "index = VectorStoreIndex.from_documents(docs, storage_context=storage_context)"
   ]
  },
  {
   "cell_type": "code",
   "execution_count": 9,
   "id": "db572f01-a972-4820-84d3-cc56c2d94fe3",
   "metadata": {},
   "outputs": [],
   "source": [
    "query_engine = index.as_query_engine()\n",
    "retriever = index.as_retriever()"
   ]
  },
  {
   "cell_type": "code",
   "execution_count": 10,
   "id": "1fb1c550-595d-4801-a551-c4a8dde223f2",
   "metadata": {},
   "outputs": [
    {
     "name": "stdout",
     "output_type": "stream",
     "text": [
      "Node ID: 8206c24d-5b81-4465-b5f5-aa423523276f\n",
      "Text: (C) Section 304.3 Section 304.5 Section 304.7 Section 304.14\n",
      "Section 304.19 Section 305.1.1 Section 307.1 Section 309.1 Section\n",
      "401.3 Section 404.4.1 Section 404.5 Section 404.5.1 Section 404.5.2\n",
      "Section 502.5 Section 504.3 Section 505.1 Section 505.4 Section 505.5\n",
      "Section 505.5.1 Section 506.3 Section 602.2 Section 602.3 Section\n",
      "602.4 Section 6...\n",
      "Score:  0.885\n",
      "\n",
      "Node ID: 715dd40f-088a-47d2-b82b-b062cc419682\n",
      "Text: Enforcement. The city council may by ordinance adopt penalties\n",
      "and enforcement procedures for violations of this article.\n",
      "Severability. If any provision of this section, or the application of\n",
      "that provision to any persons or circumstances, shall be held invalid,\n",
      "then the remainder of this section, to the extent that it can be given\n",
      "effect, and t...\n",
      "Score:  0.881\n",
      "\n"
     ]
    }
   ],
   "source": [
    "result_nodes = retriever.retrieve(\"What is covered in the Austin Code or Ordinances\")\n",
    "for node in result_nodes:\n",
    "    print(node)"
   ]
  },
  {
   "cell_type": "code",
   "execution_count": 12,
   "id": "3ff7d145-201c-4ce6-b6c9-89def2e612cc",
   "metadata": {},
   "outputs": [
    {
     "data": {
      "text/plain": [
       "'The Austin Code or Ordinances cover various aspects such as the Property Maintenance Code, enforcement procedures for violations, penalties for violations, procedures for repairs, additions, or alterations to structures, designation of code officials, inspectors, costs assessment for noncompliance, lien recording against real property, and the use of demolition funds for repairs or remediation.'"
      ]
     },
     "execution_count": 12,
     "metadata": {},
     "output_type": "execute_result"
    }
   ],
   "source": [
    "response = query_engine.query(\"What is covered in the Austin Code or Ordinances\")\n",
    "response.response"
   ]
  },
  {
   "cell_type": "code",
   "execution_count": null,
   "id": "557a2504-f302-4e86-9298-99c5d464ad7a",
   "metadata": {},
   "outputs": [],
   "source": []
  }
 ],
 "metadata": {
  "kernelspec": {
   "display_name": "Python 3 (ipykernel)",
   "language": "python",
   "name": "python3"
  },
  "language_info": {
   "codemirror_mode": {
    "name": "ipython",
    "version": 3
   },
   "file_extension": ".py",
   "mimetype": "text/x-python",
   "name": "python",
   "nbconvert_exporter": "python",
   "pygments_lexer": "ipython3",
   "version": "3.13.1"
  }
 },
 "nbformat": 4,
 "nbformat_minor": 5
}
